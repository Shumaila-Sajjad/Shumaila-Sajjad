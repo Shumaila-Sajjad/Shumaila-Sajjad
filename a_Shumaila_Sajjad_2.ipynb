{
  "nbformat": 4,
  "nbformat_minor": 0,
  "metadata": {
    "colab": {
      "provenance": [],
      "authorship_tag": "ABX9TyO4AiGF8dQiMdcJi9E7jpzV",
      "include_colab_link": true
    },
    "kernelspec": {
      "name": "python3",
      "display_name": "Python 3"
    },
    "language_info": {
      "name": "python"
    }
  },
  "cells": [
    {
      "cell_type": "markdown",
      "metadata": {
        "id": "view-in-github",
        "colab_type": "text"
      },
      "source": [
        "<a href=\"https://colab.research.google.com/github/Shumaila-Sajjad/Shumaila-Sajjad/blob/main/a_Shumaila_Sajjad_2.ipynb\" target=\"_parent\"><img src=\"https://colab.research.google.com/assets/colab-badge.svg\" alt=\"Open In Colab\"/></a>"
      ]
    },
    {
      "cell_type": "code",
      "execution_count": 9,
      "metadata": {
        "colab": {
          "base_uri": "https://localhost:8080/"
        },
        "id": "0fYcYW-8rIhg",
        "outputId": "40ee0a4a-524b-453d-da09-3eed8e90bb66"
      },
      "outputs": [
        {
          "output_type": "stream",
          "name": "stdout",
          "text": [
            "My favourite pizzas are:\n",
            " - pepperoni\n",
            " - hawaiin\n",
            " - veggie\n",
            " - meat lover's\n",
            "\n",
            "My friend's favorite pizzas are:\n",
            " - pepperoni\n",
            " - hawaiin\n",
            " - veggie\n",
            " - pesto\n"
          ]
        }
      ],
      "source": [
        "4.11\n",
        "favorite_pizzas = ['pepperoni' , 'hawaiin' , 'veggie']\n",
        "friend_pizzas = favorite_pizzas[:]\n",
        "\n",
        "favorite_pizzas.append(\"meat lover's\")\n",
        "friend_pizzas.append('pesto')\n",
        "\n",
        "print(\"My favourite pizzas are:\")\n",
        "for pizza in favorite_pizzas:\n",
        "    print(f\" - {pizza}\")\n",
        "\n",
        "print(\"\\nMy friend's favorite pizzas are:\")\n",
        "for pizza in friend_pizzas:\n",
        "    print(f\" - {pizza}\")    "
      ]
    }
  ]
}
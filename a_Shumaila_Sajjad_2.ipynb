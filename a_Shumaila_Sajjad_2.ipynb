{
  "nbformat": 4,
  "nbformat_minor": 0,
  "metadata": {
    "colab": {
      "provenance": [],
      "authorship_tag": "ABX9TyMSOZFnO78bft5yB56Aexqo",
      "include_colab_link": true
    },
    "kernelspec": {
      "name": "python3",
      "display_name": "Python 3"
    },
    "language_info": {
      "name": "python"
    }
  },
  "cells": [
    {
      "cell_type": "markdown",
      "metadata": {
        "id": "view-in-github",
        "colab_type": "text"
      },
      "source": [
        "<a href=\"https://colab.research.google.com/github/Shumaila-Sajjad/Shumaila-Sajjad/blob/main/a_Shumaila_Sajjad_2.ipynb\" target=\"_parent\"><img src=\"https://colab.research.google.com/assets/colab-badge.svg\" alt=\"Open In Colab\"/></a>"
      ]
    },
    {
      "cell_type": "code",
      "execution_count": 9,
      "metadata": {
        "colab": {
          "base_uri": "https://localhost:8080/"
        },
        "id": "0fYcYW-8rIhg",
        "outputId": "40ee0a4a-524b-453d-da09-3eed8e90bb66"
      },
      "outputs": [
        {
          "output_type": "stream",
          "name": "stdout",
          "text": [
            "My favourite pizzas are:\n",
            " - pepperoni\n",
            " - hawaiin\n",
            " - veggie\n",
            " - meat lover's\n",
            "\n",
            "My friend's favorite pizzas are:\n",
            " - pepperoni\n",
            " - hawaiin\n",
            " - veggie\n",
            " - pesto\n"
          ]
        }
      ],
      "source": [
        "4.11\n",
        "favorite_pizzas = ['pepperoni' , 'hawaiin' , 'veggie']\n",
        "friend_pizzas = favorite_pizzas[:]\n",
        "\n",
        "favorite_pizzas.append(\"meat lover's\")\n",
        "friend_pizzas.append('pesto')\n",
        "\n",
        "print(\"My favourite pizzas are:\")\n",
        "for pizza in favorite_pizzas:\n",
        "    print(f\" - {pizza}\")\n",
        "\n",
        "print(\"\\nMy friend's favorite pizzas are:\")\n",
        "for pizza in friend_pizzas:\n",
        "    print(f\" - {pizza}\")    "
      ]
    },
    {
      "cell_type": "code",
      "source": [
        "4.13\n",
        "menu_items = ('sandwitch' , 'nuggets' , 'pizzas' , 'burger' , 'pineapple cakes',)\n",
        "print(\"You can choose from the following meni items:\")\n",
        "for item in menu_items:\n",
        "    print(f\" - {item}\")\n",
        "\n",
        "menu_items = ('sandwitch' , 'nuggets' , 'pizzas' , 'chhicken burger' , 'chocolate cakes')\n",
        "print(\"\\nour menu has been updated.\")\n",
        "print(\"You can now choose from the following items:\")\n",
        "for item in menu_items:\n",
        "    print(f\"- {item}\")"
      ],
      "metadata": {
        "colab": {
          "base_uri": "https://localhost:8080/"
        },
        "id": "bWSk6qvdv4GG",
        "outputId": "9c5aa035-b54c-41bf-b248-995d5f6190ef"
      },
      "execution_count": 10,
      "outputs": [
        {
          "output_type": "stream",
          "name": "stdout",
          "text": [
            "You can choose from the following meni items:\n",
            " - sandwitch\n",
            " - nuggets\n",
            " - pizzas\n",
            " - burger\n",
            " - pineapple cakes\n",
            "\n",
            "our menu has been updated.\n",
            "You can now choose from the following items:\n",
            "- sandwitch\n",
            "- nuggets\n",
            "- pizzas\n",
            "- chhicken burger\n",
            "- chocolate cakes\n"
          ]
        }
      ]
    },
    {
      "cell_type": "code",
      "source": [
        "#5.2 More Conditional Tests\n",
        "\n",
        "name_1 = \"Shumaila\"\n",
        "name_2 = \"Sajjad\"\n",
        "name_3 =  \"Hussain\"\n",
        "\n",
        "#Equality of strings\n",
        "if (name_1 == name_3):\n",
        "    print(\"Equal!\")\n",
        "else:\n",
        "    print(\"Unequal!\")\n",
        "\n",
        "#Inequality of strings\n",
        "if(name_1 != name_2):\n",
        "    print(\"The names are unequal\")\n",
        "else:\n",
        "    print(\"The names are equal\")\n",
        "\n",
        "#Numerical tests \n",
        "age_1 = 24\n",
        "age_2 = 28\n",
        "\n",
        "if (age_1 == 24):\n",
        "    print(\"Person is eligible to vote\")\n",
        "if (age_1 != 28):\n",
        "          print(\"Person cannot drink\")\n",
        "\n",
        "if(age_1 >= age_2):\n",
        "    print(\"Younger\")\n",
        "if(age_2 >= age_1):\n",
        "    print(\"Older\")\n",
        "\n",
        "#And/Or keyword test\n",
        "\n",
        "if (age_1 ==24  or age_28>=28):\n",
        "    print(\"Person is eligible for voting\")\n",
        "if(age_1 ==24 and age_2==28):\n",
        "    print(\"Age difference is four years\")\n",
        "\n",
        "# Item in list or not list\n",
        "fruits = ['apple' , 'peach' , 'melon']\n",
        "if 'apple' in fruits: \n",
        "    print(\"Apple is present in fruits\")\n",
        "if 'orange' not in fruits:\n",
        "    print(\"Orange is not present in fruits\")          \n"
      ],
      "metadata": {
        "colab": {
          "base_uri": "https://localhost:8080/"
        },
        "id": "U0UC9CEszIXS",
        "outputId": "77fe10ba-9910-4d63-a732-2f7c7526abbb"
      },
      "execution_count": 13,
      "outputs": [
        {
          "output_type": "stream",
          "name": "stdout",
          "text": [
            "Unequal!\n",
            "The names are unequal\n",
            "Person is eligible to vote\n",
            "Person cannot drink\n",
            "Older\n",
            "Person is eligible for voting\n",
            "Age difference is four years\n",
            "Apple is present in fruits\n",
            "Orange is not present in fruits\n"
          ]
        }
      ]
    }
  ]
}
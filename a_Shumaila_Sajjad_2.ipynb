{
  "nbformat": 4,
  "nbformat_minor": 0,
  "metadata": {
    "colab": {
      "provenance": [],
      "authorship_tag": "ABX9TyOAus+uQmYUpETP+BAU1L3M",
      "include_colab_link": true
    },
    "kernelspec": {
      "name": "python3",
      "display_name": "Python 3"
    },
    "language_info": {
      "name": "python"
    }
  },
  "cells": [
    {
      "cell_type": "markdown",
      "metadata": {
        "id": "view-in-github",
        "colab_type": "text"
      },
      "source": [
        "<a href=\"https://colab.research.google.com/github/Shumaila-Sajjad/Shumaila-Sajjad/blob/main/a_Shumaila_Sajjad_2.ipynb\" target=\"_parent\"><img src=\"https://colab.research.google.com/assets/colab-badge.svg\" alt=\"Open In Colab\"/></a>"
      ]
    },
    {
      "cell_type": "code",
      "execution_count": 14,
      "metadata": {
        "colab": {
          "base_uri": "https://localhost:8080/"
        },
        "id": "0fYcYW-8rIhg",
        "outputId": "e0b08d48-163e-4125-8f4a-1e62300136b8"
      },
      "outputs": [
        {
          "output_type": "stream",
          "name": "stdout",
          "text": [
            "My favourite pizzas are:\n",
            " - pepperoni\n",
            " - hawaiin\n",
            " - veggie\n",
            " - meat lover's\n",
            "\n",
            "My friend's favorite pizzas are:\n",
            " - pepperoni\n",
            " - hawaiin\n",
            " - veggie\n",
            " - pesto\n"
          ]
        }
      ],
      "source": [
        "#4.11 My Pizzas, Your Pizzas\n",
        "\n",
        "favorite_pizzas = ['pepperoni' , 'hawaiin' , 'veggie']\n",
        "friend_pizzas = favorite_pizzas[:]\n",
        "\n",
        "favorite_pizzas.append(\"meat lover's\")\n",
        "friend_pizzas.append('pesto')\n",
        "\n",
        "print(\"My favourite pizzas are:\")\n",
        "for pizza in favorite_pizzas:\n",
        "    print(f\" - {pizza}\")\n",
        "\n",
        "print(\"\\nMy friend's favorite pizzas are:\")\n",
        "for pizza in friend_pizzas:\n",
        "    print(f\" - {pizza}\")    "
      ]
    },
    {
      "cell_type": "code",
      "source": [
        "#4.13 Buffet:\n",
        "\n",
        "menu_items = ('sandwitch' , 'nuggets' , 'pizzas' , 'burger' , 'pineapple cakes',)\n",
        "print(\"You can choose from the following meni items:\")\n",
        "for item in menu_items:\n",
        "    print(f\" - {item}\")\n",
        "\n",
        "menu_items = ('sandwitch' , 'nuggets' , 'pizzas' , 'chhicken burger' , 'chocolate cakes')\n",
        "print(\"\\nour menu has been updated.\")\n",
        "print(\"You can now choose from the following items:\")\n",
        "for item in menu_items:\n",
        "    print(f\"- {item}\")"
      ],
      "metadata": {
        "colab": {
          "base_uri": "https://localhost:8080/"
        },
        "id": "bWSk6qvdv4GG",
        "outputId": "acf360c0-ada2-4095-db30-fd62e9ece9bd"
      },
      "execution_count": 16,
      "outputs": [
        {
          "output_type": "stream",
          "name": "stdout",
          "text": [
            "You can choose from the following meni items:\n",
            " - sandwitch\n",
            " - nuggets\n",
            " - pizzas\n",
            " - burger\n",
            " - pineapple cakes\n",
            "\n",
            "our menu has been updated.\n",
            "You can now choose from the following items:\n",
            "- sandwitch\n",
            "- nuggets\n",
            "- pizzas\n",
            "- chhicken burger\n",
            "- chocolate cakes\n"
          ]
        }
      ]
    },
    {
      "cell_type": "code",
      "source": [
        "#5.2 More Conditional Tests\n",
        "\n",
        "name_1 = \"Shumaila\"\n",
        "name_2 = \"Sajjad\"\n",
        "name_3 =  \"Hussain\"\n",
        "\n",
        "#Equality of strings\n",
        "if (name_1 == name_3):\n",
        "    print(\"Equal!\")\n",
        "else:\n",
        "    print(\"Unequal!\")\n",
        "\n",
        "#Inequality of strings\n",
        "if(name_1 != name_2):\n",
        "    print(\"The names are unequal\")\n",
        "else:\n",
        "    print(\"The names are equal\")\n",
        "\n",
        "#Numerical tests \n",
        "age_1 = 24\n",
        "age_2 = 28\n",
        "\n",
        "if (age_1 == 24):\n",
        "    print(\"Person is eligible to vote\")\n",
        "if (age_1 != 28):\n",
        "          print(\"Person cannot drink\")\n",
        "\n",
        "if(age_1 >= age_2):\n",
        "    print(\"Younger\")\n",
        "if(age_2 >= age_1):\n",
        "    print(\"Older\")\n",
        "\n",
        "#And/Or keyword test\n",
        "\n",
        "if (age_1 ==24  or age_28>=28):\n",
        "    print(\"Person is eligible for voting\")\n",
        "if(age_1 ==24 and age_2==28):\n",
        "    print(\"Age difference is four years\")\n",
        "\n",
        "# Item in list or not list\n",
        "fruits = ['apple' , 'peach' , 'melon']\n",
        "if 'apple' in fruits: \n",
        "    print(\"Apple is present in fruits\")\n",
        "if 'orange' not in fruits:\n",
        "    print(\"Orange is not present in fruits\")          \n"
      ],
      "metadata": {
        "colab": {
          "base_uri": "https://localhost:8080/"
        },
        "id": "U0UC9CEszIXS",
        "outputId": "77fe10ba-9910-4d63-a732-2f7c7526abbb"
      },
      "execution_count": 13,
      "outputs": [
        {
          "output_type": "stream",
          "name": "stdout",
          "text": [
            "Unequal!\n",
            "The names are unequal\n",
            "Person is eligible to vote\n",
            "Person cannot drink\n",
            "Older\n",
            "Person is eligible for voting\n",
            "Age difference is four years\n",
            "Apple is present in fruits\n",
            "Orange is not present in fruits\n"
          ]
        }
      ]
    },
    {
      "cell_type": "code",
      "source": [
        "#6.3 Glossary: \n",
        "\n",
        "glossary = {'string':'A series of characters.',\n",
        "            'comment': 'A note in a program that the Python interpreter ignores.',\n",
        "            'list': 'A collection of items in a particular order.',\n",
        "            'loop': 'Work through a collection of items, one at a time.',\n",
        "            'dictionary': \"A collection of key-value pairs .\",}\n",
        "\n",
        "word = 'string'\n",
        "print(f\"\\n{word.title()}: {glossary[word]}\")\n",
        "\n",
        "word = 'comment'\n",
        "print(f\"\\n{word.title()}: {glossary[word]}\")\n",
        "\n",
        "word = 'list'\n",
        "print(f\"\\n{word.title()}: {glossary[word]}\")\n",
        "\n",
        "word = 'loop'\n",
        "print(f\"\\n{word.title()}: {glossary[word]}\")\n",
        "\n",
        "word = 'dictionary'\n",
        "print(f\"\\n{word.title()}: {glossary[word]}\")\n",
        "\n"
      ],
      "metadata": {
        "colab": {
          "base_uri": "https://localhost:8080/"
        },
        "id": "siPw-3z87uPO",
        "outputId": "976ccfab-1c86-4fc5-eb60-89e4087aa71b"
      },
      "execution_count": 17,
      "outputs": [
        {
          "output_type": "stream",
          "name": "stdout",
          "text": [
            "\n",
            "String: A series of characters.\n",
            "\n",
            "Comment: A note in a program that the Python interpreter ignores.\n",
            "\n",
            "List: A collection of items in a particular order.\n",
            "\n",
            "Loop: Work through a collection of items, one at a time.\n",
            "\n",
            "Dictionary: A collection of key-value pairs .\n"
          ]
        }
      ]
    },
    {
      "cell_type": "code",
      "source": [
        "#6.7 People:\n",
        "\n",
        "# Make an empty list to store people in.\n",
        "people =[]\n",
        "# Define some peole, and add them to the list.\n",
        "person = {\n",
        "    'first_name': 'Shumaila',\n",
        "    'last_name':  'Sajjad',\n",
        "    'age': 28,\n",
        "    'city': 'Multan',\n",
        "    }\n",
        "people.append(person)\n",
        "person = { \n",
        "     'first_name': 'Shanzay',\n",
        "     'last_name':   'Khan',  \n",
        "     'age': 20,\n",
        "      'city':'Lahore',\n",
        "      }\n",
        "people.append(person)\n",
        "person = {\n",
        "       'first_name': 'Maila',\n",
        "       'last_name' :  'Khan',\n",
        "       'age': 24,\n",
        "       'city' : 'Islamabad',\n",
        "       }\n",
        "\n",
        "# Display all of the information in dictionary.\n",
        "for person in people:\n",
        "    name = f\"{person['first_name'].title()} {person['last_name'].title()}\"\n",
        "    age  = person['age']\n",
        "    city = person['city'].title()\n",
        "\n",
        "    print(f\"{name}, of {city}, is {age} years old.\")                \n",
        "\n",
        "\n",
        "    "
      ],
      "metadata": {
        "colab": {
          "base_uri": "https://localhost:8080/"
        },
        "id": "CNZ2wUrnBT8o",
        "outputId": "ea3ff418-337a-4a94-ea64-fe0150384393"
      },
      "execution_count": 20,
      "outputs": [
        {
          "output_type": "stream",
          "name": "stdout",
          "text": [
            "Shumaila Sajjad, of Multan, is 28 years old.\n",
            "Shanzay Khan, of Lahore, is 20 years old.\n"
          ]
        }
      ]
    }
  ]
}
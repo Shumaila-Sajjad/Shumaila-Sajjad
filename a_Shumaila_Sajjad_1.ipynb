{
  "nbformat": 4,
  "nbformat_minor": 0,
  "metadata": {
    "colab": {
      "provenance": [],
      "authorship_tag": "ABX9TyM7m2UJCxEsxa1ypzo/x8R0",
      "include_colab_link": true
    },
    "kernelspec": {
      "name": "python3",
      "display_name": "Python 3"
    },
    "language_info": {
      "name": "python"
    }
  },
  "cells": [
    {
      "cell_type": "markdown",
      "metadata": {
        "id": "view-in-github",
        "colab_type": "text"
      },
      "source": [
        "<a href=\"https://colab.research.google.com/github/Shumaila-Sajjad/Shumaila-Sajjad/blob/main/a_Shumaila_Sajjad_1.ipynb\" target=\"_parent\"><img src=\"https://colab.research.google.com/assets/colab-badge.svg\" alt=\"Open In Colab\"/></a>"
      ]
    },
    {
      "cell_type": "code",
      "execution_count": 1,
      "metadata": {
        "colab": {
          "base_uri": "https://localhost:8080/"
        },
        "id": "icPdVnTB1tEH",
        "outputId": "a90b2a30-3877-4276-d8a8-bc9bd74b96fb"
      },
      "outputs": [
        {
          "output_type": "stream",
          "name": "stdout",
          "text": [
            "python\n"
          ]
        }
      ],
      "source": [
        "message = 'python'\n",
        "print(message)\n"
      ]
    },
    {
      "cell_type": "code",
      "source": [
        "message ='python'\n",
        "print(message)\n",
        "message = 'python Language'\n",
        "\n",
        "\n",
        "\n",
        "\n"
      ],
      "metadata": {
        "colab": {
          "base_uri": "https://localhost:8080/"
        },
        "id": "rgQysEyB4eXg",
        "outputId": "6b53c4fb-58e4-4ddd-b651-c26073d893d2"
      },
      "execution_count": 7,
      "outputs": [
        {
          "output_type": "stream",
          "name": "stdout",
          "text": [
            "python\n"
          ]
        }
      ]
    },
    {
      "cell_type": "code",
      "source": [
        "name = 'Shumaila'\n",
        "print(\"Hello \" + name + ' ,' + \"would you like to learn some Python?\")\n"
      ],
      "metadata": {
        "colab": {
          "base_uri": "https://localhost:8080/"
        },
        "id": "f36MGJ3p6uIa",
        "outputId": "8e0a06ad-685a-4dc4-9302-9fd33d974f3b"
      },
      "execution_count": 16,
      "outputs": [
        {
          "output_type": "stream",
          "name": "stdout",
          "text": [
            "Hello Shumaila ,would you like to learn some Python?\n"
          ]
        }
      ]
    },
    {
      "cell_type": "code",
      "source": [
        "name = 'SHUMAILA'\n",
        "print(name. upper ())\n",
        "print(name. lower())\n",
        "print(name. title())\n"
      ],
      "metadata": {
        "colab": {
          "base_uri": "https://localhost:8080/"
        },
        "id": "9MTc4v-28VhA",
        "outputId": "142e741d-5534-4053-9b34-06a01b61dd8b"
      },
      "execution_count": 12,
      "outputs": [
        {
          "output_type": "stream",
          "name": "stdout",
          "text": [
            "SHUMAILA\n",
            "shumaila\n",
            "Shumaila\n"
          ]
        }
      ]
    },
    {
      "cell_type": "code",
      "source": [
        "name = 'Shumaila'\n",
        "message = 'What is rational is actual and what is actual rational.'\n",
        "print(name+ ' ,' + '\"' + message + '\"')"
      ],
      "metadata": {
        "colab": {
          "base_uri": "https://localhost:8080/"
        },
        "id": "6ij2MPbe9fo_",
        "outputId": "b49c43fc-9b24-4ded-b862-d21f86c1b34e"
      },
      "execution_count": 13,
      "outputs": [
        {
          "output_type": "stream",
          "name": "stdout",
          "text": [
            "Shumaila ,\"What is rational is actual and what is actual rational.\"\n"
          ]
        }
      ]
    },
    {
      "cell_type": "code",
      "source": [
        "famous_person = 'Shumaila'\n",
        "message = 'What is rational is actual and what is actual is rational.'\n",
        "print(famous_person + '\\n' + message)"
      ],
      "metadata": {
        "colab": {
          "base_uri": "https://localhost:8080/"
        },
        "id": "JU37FTiI-_Wf",
        "outputId": "4a4573c6-f8e6-4dd5-f173-7a065efffe9c"
      },
      "execution_count": 14,
      "outputs": [
        {
          "output_type": "stream",
          "name": "stdout",
          "text": [
            "Shumaila\n",
            "What is rational is actual and what is actual is rational.\n"
          ]
        }
      ]
    },
    {
      "cell_type": "code",
      "source": [
        "name = ' Shumaila '\n",
        "print(name.lstrip())\n",
        "print(name.rstrip())\n",
        "print(name.strip())"
      ],
      "metadata": {
        "id": "dkKYVhEJArwj",
        "outputId": "08b01bf5-030d-4e08-a891-85225cebfecf",
        "colab": {
          "base_uri": "https://localhost:8080/"
        }
      },
      "execution_count": 17,
      "outputs": [
        {
          "output_type": "stream",
          "name": "stdout",
          "text": [
            "Shumaila \n",
            " Shumaila\n",
            "Shumaila\n"
          ]
        }
      ]
    }
  ]
}
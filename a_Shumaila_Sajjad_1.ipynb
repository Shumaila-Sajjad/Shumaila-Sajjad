{
  "nbformat": 4,
  "nbformat_minor": 0,
  "metadata": {
    "colab": {
      "provenance": [],
      "authorship_tag": "ABX9TyM2ZmoKkWi/lvbYkKuFDnIt",
      "include_colab_link": true
    },
    "kernelspec": {
      "name": "python3",
      "display_name": "Python 3"
    },
    "language_info": {
      "name": "python"
    }
  },
  "cells": [
    {
      "cell_type": "markdown",
      "metadata": {
        "id": "view-in-github",
        "colab_type": "text"
      },
      "source": [
        "<a href=\"https://colab.research.google.com/github/Shumaila-Sajjad/Shumaila-Sajjad/blob/main/a_Shumaila_Sajjad_1.ipynb\" target=\"_parent\"><img src=\"https://colab.research.google.com/assets/colab-badge.svg\" alt=\"Open In Colab\"/></a>"
      ]
    },
    {
      "cell_type": "code",
      "execution_count": 1,
      "metadata": {
        "colab": {
          "base_uri": "https://localhost:8080/"
        },
        "id": "icPdVnTB1tEH",
        "outputId": "a90b2a30-3877-4276-d8a8-bc9bd74b96fb"
      },
      "outputs": [
        {
          "output_type": "stream",
          "name": "stdout",
          "text": [
            "python\n"
          ]
        }
      ],
      "source": [
        "message = 'python'\n",
        "print(message)\n"
      ]
    },
    {
      "cell_type": "code",
      "source": [
        "message ='python'\n",
        "print(message)\n",
        "message = 'python Language'\n",
        "\n",
        "\n",
        "\n",
        "\n"
      ],
      "metadata": {
        "colab": {
          "base_uri": "https://localhost:8080/"
        },
        "id": "rgQysEyB4eXg",
        "outputId": "6b53c4fb-58e4-4ddd-b651-c26073d893d2"
      },
      "execution_count": 7,
      "outputs": [
        {
          "output_type": "stream",
          "name": "stdout",
          "text": [
            "python\n"
          ]
        }
      ]
    },
    {
      "cell_type": "code",
      "source": [
        "name = 'Shumaila'\n",
        "print(\"Hello \" + name + ' ,' + \"would you like to learn some Python?\")\n"
      ],
      "metadata": {
        "colab": {
          "base_uri": "https://localhost:8080/"
        },
        "id": "f36MGJ3p6uIa",
        "outputId": "3b8ec281-da7d-4907-bb6b-04794940d49c"
      },
      "execution_count": 9,
      "outputs": [
        {
          "output_type": "stream",
          "name": "stdout",
          "text": [
            "Hello Shumaila ,would you like to learn some Python?\n"
          ]
        }
      ]
    },
    {
      "cell_type": "code",
      "source": [
        "name = 'SHUMAILA'\n",
        "print(name. upper ())\n",
        "print(name. lower())\n",
        "print(name. title())\n"
      ],
      "metadata": {
        "colab": {
          "base_uri": "https://localhost:8080/"
        },
        "id": "9MTc4v-28VhA",
        "outputId": "142e741d-5534-4053-9b34-06a01b61dd8b"
      },
      "execution_count": 12,
      "outputs": [
        {
          "output_type": "stream",
          "name": "stdout",
          "text": [
            "SHUMAILA\n",
            "shumaila\n",
            "Shumaila\n"
          ]
        }
      ]
    }
  ]
}
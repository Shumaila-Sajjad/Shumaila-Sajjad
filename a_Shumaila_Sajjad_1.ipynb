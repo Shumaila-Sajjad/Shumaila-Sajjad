{
  "nbformat": 4,
  "nbformat_minor": 0,
  "metadata": {
    "colab": {
      "provenance": [],
      "authorship_tag": "ABX9TyMHrQT7JUQDEKS05rIGie8Y",
      "include_colab_link": true
    },
    "kernelspec": {
      "name": "python3",
      "display_name": "Python 3"
    },
    "language_info": {
      "name": "python"
    }
  },
  "cells": [
    {
      "cell_type": "markdown",
      "metadata": {
        "id": "view-in-github",
        "colab_type": "text"
      },
      "source": [
        "<a href=\"https://colab.research.google.com/github/Shumaila-Sajjad/Shumaila-Sajjad/blob/main/a_Shumaila_Sajjad_1.ipynb\" target=\"_parent\"><img src=\"https://colab.research.google.com/assets/colab-badge.svg\" alt=\"Open In Colab\"/></a>"
      ]
    },
    {
      "cell_type": "code",
      "execution_count": null,
      "metadata": {
        "colab": {
          "base_uri": "https://localhost:8080/"
        },
        "id": "icPdVnTB1tEH",
        "outputId": "a90b2a30-3877-4276-d8a8-bc9bd74b96fb"
      },
      "outputs": [
        {
          "output_type": "stream",
          "name": "stdout",
          "text": [
            "python\n"
          ]
        }
      ],
      "source": [
        "message = 'python'\n",
        "print(message)\n"
      ]
    },
    {
      "cell_type": "code",
      "source": [
        "message ='python'\n",
        "print(message)\n",
        "message = 'python Language'\n",
        "\n",
        "\n",
        "\n",
        "\n"
      ],
      "metadata": {
        "colab": {
          "base_uri": "https://localhost:8080/"
        },
        "id": "rgQysEyB4eXg",
        "outputId": "6b53c4fb-58e4-4ddd-b651-c26073d893d2"
      },
      "execution_count": null,
      "outputs": [
        {
          "output_type": "stream",
          "name": "stdout",
          "text": [
            "python\n"
          ]
        }
      ]
    },
    {
      "cell_type": "code",
      "source": [
        "name = 'Shumaila'\n",
        "print(\"Hello \" + name + ' ,' + \"would you like to learn some Python?\")\n"
      ],
      "metadata": {
        "colab": {
          "base_uri": "https://localhost:8080/"
        },
        "id": "f36MGJ3p6uIa",
        "outputId": "3b8ec281-da7d-4907-bb6b-04794940d49c"
      },
      "execution_count": null,
      "outputs": [
        {
          "output_type": "stream",
          "name": "stdout",
          "text": [
            "Hello Shumaila ,would you like to learn some Python?\n"
          ]
        }
      ]
    },
    {
      "cell_type": "code",
      "source": [
        "name = 'SHUMAILA'\n",
        "print(name. upper ())\n",
        "print(name. lower())\n",
        "print(name. title())\n"
      ],
      "metadata": {
        "colab": {
          "base_uri": "https://localhost:8080/"
        },
        "id": "9MTc4v-28VhA",
        "outputId": "142e741d-5534-4053-9b34-06a01b61dd8b"
      },
      "execution_count": null,
      "outputs": [
        {
          "output_type": "stream",
          "name": "stdout",
          "text": [
            "SHUMAILA\n",
            "shumaila\n",
            "Shumaila\n"
          ]
        }
      ]
    },
    {
      "cell_type": "code",
      "source": [
        "name = 'Shumaila'\n",
        "message = 'What is rational is actual and what is actual rational.'\n",
        "print(name+ ' ,' + '\"' + message + '\"')"
      ],
      "metadata": {
        "colab": {
          "base_uri": "https://localhost:8080/"
        },
        "id": "6ij2MPbe9fo_",
        "outputId": "b49c43fc-9b24-4ded-b862-d21f86c1b34e"
      },
      "execution_count": null,
      "outputs": [
        {
          "output_type": "stream",
          "name": "stdout",
          "text": [
            "Shumaila ,\"What is rational is actual and what is actual rational.\"\n"
          ]
        }
      ]
    },
    {
      "cell_type": "code",
      "source": [
        "\n",
        "guests = ['Shumaila' , 'sajjad' , 'Hussain' , 'Khan']\n",
        "name = guests[0] . title( )\n",
        "print(name + \", please come to dinner.\")\n",
        "name = guests[1] . title( )\n",
        "print(name + \", please come to dinner.\")\n",
        "name = guests[2] . title( )\n",
        "print(name + \", please come to dinner.\")\n"
      ],
      "metadata": {
        "id": "JU37FTiI-_Wf",
        "colab": {
          "base_uri": "https://localhost:8080/"
        },
        "outputId": "0816546d-909d-4283-a535-0d60746df648"
      },
      "execution_count": 2,
      "outputs": [
        {
          "output_type": "stream",
          "name": "stdout",
          "text": [
            "Shumaila, please come to dinner.\n",
            "Sajjad, please come to dinner.\n",
            "Hussain, please come to dinner.\n"
          ]
        }
      ]
    },
    {
      "cell_type": "code",
      "source": [
        "guests = ['Shumaila' , 'Sajjad' , 'Hussain']\n",
        "name = guests[0] . title( )\n",
        "print(name + \",  please come to dinner.\")\n",
        "name = guests[1] . title( )\n",
        "print(name + \", please come to dinner.\")\n",
        "name = guests[2] . title ( )\n",
        "print(name + \" , please come to dinner.\")\n",
        "name = guests[1] . title( )\n",
        "print(\"\\nSorry, \" + \" can't make it to dinner .\")\n",
        "del(guests[1])\n",
        "guests . insert(1 , 'Queen')\n",
        "name = guests[0] . title( )\n",
        "print(\"\\n\" + name + \" , please come to dinner.\")\n",
        "name = guests[1] . title( )\n",
        "print(name + \", please come to dinner.\")\n",
        "name = guests[2] . title( )\n",
        "print(name + \", please come to dinner.\")"
      ],
      "metadata": {
        "colab": {
          "base_uri": "https://localhost:8080/"
        },
        "id": "dSaptbtZLanU",
        "outputId": "6e6fbebb-5170-44da-d79d-68b0a89bcbb6"
      },
      "execution_count": 3,
      "outputs": [
        {
          "output_type": "stream",
          "name": "stdout",
          "text": [
            "Shumaila,  please come to dinner.\n",
            "Sajjad, please come to dinner.\n",
            "Hussain , please come to dinner.\n",
            "\n",
            "Sorry,  can't make it to dinner .\n",
            "\n",
            "Shumaila , please come to dinner.\n",
            "Queen, please come to dinner.\n",
            "Hussain, please come to dinner.\n"
          ]
        }
      ]
    },
    {
      "cell_type": "code",
      "source": [
        "guests = ['Shumaila' , 'sajjad' , 'Hussain']\n",
        "name = guests[0] . title( )\n",
        "print(name + \" , please come to dinner.\")\n",
        "name = guests[1] . title( )\n",
        "print(name + \", please come to dinner.\")\n",
        "name = guests[2] . title( )\n",
        "print(name + \", please come to dinner.\")\n",
        "name = guests[1] . title( )\n",
        "print(\"\\nSorry, \" + name + \" can't make it to dinner.\")\n",
        "del(guests[1])\n",
        "guests . insert(1, 'Queen')\n",
        "name = guests[0] .title( )\n",
        "print(\"\\n + name + \" ,\"please come to dinner.\")\n",
        "name = guests[1] .title( )\n",
        "print(name + \",please come to dinner.\")\n",
        "name = guests[2] .title( )\n",
        "print(name + \",please come to dinner.\")\n",
        "print(\"\\nWe got a bigger table!\")\n",
        "guests.insert(0, 'Shumaila')\n",
        "guests.insert(2, 'Sajjad')\n",
        "guests.append('Hussain')\n",
        "name = guests[0].title( )\n",
        "print(name + \", please come to dinner.\")\n",
        "name = guests[1].title( )\n",
        "print(name + \", please come to dinner.\")\n",
        "name = guests[2].title( )\n",
        "print(name + \", please come to dinner.\")\n",
        "name = guests[3].title( )\n",
        "print(name + \" , please come to dinner.\")\n",
        "name = guests[4].title( )\n",
        "print(name + \" , please come to dinner.\")\n",
        "name = guests[5].title( )\n",
        "print(name + \" , please come to dinner.\")\n"
      ],
      "metadata": {
        "colab": {
          "base_uri": "https://localhost:8080/"
        },
        "id": "_0FIZTgwP1GF",
        "outputId": "3714fb43-a3d9-4957-eee1-2af2e807c168"
      },
      "execution_count": 4,
      "outputs": [
        {
          "output_type": "stream",
          "name": "stdout",
          "text": [
            "Shumaila , please come to dinner.\n",
            "Sajjad, please come to dinner.\n",
            "Hussain, please come to dinner.\n",
            "\n",
            "Sorry, Sajjad can't make it to dinner.\n",
            "\n",
            " + name +  please come to dinner.\n",
            "Queen,please come to dinner.\n",
            "Hussain,please come to dinner.\n",
            "\n",
            "We got a bigger table!\n",
            "Shumaila, please come to dinner.\n",
            "Shumaila, please come to dinner.\n",
            "Sajjad, please come to dinner.\n",
            "Queen , please come to dinner.\n",
            "Hussain , please come to dinner.\n",
            "Hussain , please come to dinner.\n"
          ]
        }
      ]
    },
    {
      "cell_type": "code",
      "source": [],
      "metadata": {
        "id": "48hPcV67cS4w"
      },
      "execution_count": null,
      "outputs": []
    }
  ]
}